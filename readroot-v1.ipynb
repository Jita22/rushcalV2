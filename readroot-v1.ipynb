{
 "cells": [
  {
   "cell_type": "code",
   "execution_count": 1,
   "id": "e5eb1d6c-a65a-4465-bb61-b07e6d357d9d",
   "metadata": {},
   "outputs": [],
   "source": [
    "# Takes in the PhysVolName string (volline) and Returns the indices SAno, DUno\n",
    "# Index Extractor Function\n",
    "def indext(volline):\n",
    "    DAind = volline.index(\"DetectorArray_\") + len(\"DetectorArray_\")\n",
    "    DAno = int(volline[DAind :DAind + 3])\n",
    "    SAind = volline.index(\"StringAssembly_\") + len(\"StringAssembly_\")\n",
    "    SAno = int(volline[SAind:SAind + 3])\n",
    "    DUind = volline.index(\"DetUnit_\") + len(\"DetUnit_\")\n",
    "    DUno = int(volline[DUind:DUind + 3])\n",
    "    ADind = volline.index(\"ActiveDet_\") + len(\"ActiveDet_\")\n",
    "    ADno = int(volline[ADind:ADind + 3])\n",
    "    return SAno, DUno"
   ]
  },
  {
   "cell_type": "code",
   "execution_count": 2,
   "id": "5414351f-8229-484e-a9c2-56cfc632231f",
   "metadata": {},
   "outputs": [],
   "source": [
    "import uproot\n",
    "import numpy\n",
    "import pandas as pd\n",
    "# Reading the input file\n",
    "inpath = '/global/cfs/projectdirs/m2676/sims/LGND60_AsBuilt_Calibration/'+ 'LGND_200_60kg_Calibration_wSourceNumber_41_Height_-1000mm.root'\n",
    "file = uproot.open(inpath)"
   ]
  },
  {
   "cell_type": "code",
   "execution_count": 3,
   "id": "f6f1f118-2e9b-4751-ae4f-31514ff3cad1",
   "metadata": {},
   "outputs": [
    {
     "data": {
      "text/plain": [
       "[<TBranchElement 'fMCRun' (2 subbranches) at 0x7fffba7653a0>,\n",
       " <TBranchElement 'MGTDataObject' at 0x7fffba7658e0>,\n",
       " <TBranchElement 'MGMCRun' (30 subbranches) at 0x7fffba6f32b0>,\n",
       " <TBranchElement 'fRunID' at 0x7fffba6f37c0>,\n",
       " <TBranchElement 'fNEvents' at 0x7fffba6f9190>,\n",
       " <TBranchElement 'fDescription' at 0x7fffba6f9af0>,\n",
       " <TBranchElement 'fSensitiveVolumeIDs' at 0x7fffba701490>,\n",
       " <TBranchElement 'fWriteRandGenState' at 0x7fffba701d90>,\n",
       " <TBranchElement 'fWriteAllSteps' at 0x7fffba706730>,\n",
       " <TBranchElement 'fWriteAllStepsInEventsThatDepositEnergy' at 0x7fffba70c0d0>,\n",
       " <TBranchElement 'fWriteEventsThatDepositEnergyInGe' at 0x7fffba70ca30>,\n",
       " <TBranchElement 'fKillAlphas' at 0x7fffba7133d0>,\n",
       " <TBranchElement 'fKillBetas' at 0x7fffba713d30>,\n",
       " <TBranchElement 'fKillGammas' at 0x7fffba7196d0>,\n",
       " <TBranchElement 'fKillNeutrons' at 0x7fffba71e070>,\n",
       " <TBranchElement 'fStopNuclei' at 0x7fffba71e9d0>,\n",
       " <TBranchElement 'fUseTimeWindow' at 0x7fffba723370>,\n",
       " <TBranchElement 'fTimeWindow' at 0x7fffba723cd0>,\n",
       " <TBranchElement 'fUseImportanceSampling' at 0x7fffba6ac6a0>,\n",
       " <TBranchElement 'fBiasedParticleID' at 0x7fffba6b1040>,\n",
       " <TBranchElement 'fUseImportanceProcessWindow' at 0x7fffba6b19a0>,\n",
       " <TBranchElement 'fUseParallelWorld' at 0x7fffba6b7340>,\n",
       " <TBranchElement 'fAmax' at 0x7fffba6b7cd0>,\n",
       " <TBranchElement 'fAmin' at 0x7fffba6be670>,\n",
       " <TBranchElement 'fZmax' at 0x7fffba6befd0>,\n",
       " <TBranchElement 'fZmin' at 0x7fffba6c3970>,\n",
       " <TBranchElement 'fMaGeRevision' at 0x7fffba6c9310>,\n",
       " <TBranchElement 'fMaGeTag' at 0x7fffba6c9c70>,\n",
       " <TBranchElement 'fMGDORevision' at 0x7fffba6ce610>,\n",
       " <TBranchElement 'fMGDOTag' at 0x7fffba6cef70>,\n",
       " <TBranchElement 'fGeantVersion' at 0x7fffba6d5910>,\n",
       " <TBranchElement 'fCLHEPVersion' at 0x7fffba6da2b0>,\n",
       " <TBranchElement 'fROOTVersion' at 0x7fffba6dac10>,\n",
       " <TBranchElement 'eventHeader' (6 subbranches) at 0x7fffba6e2ca0>,\n",
       " <TBranchElement 'MGTDataObject' at 0x7fffba6671c0>,\n",
       " <TBranchElement 'fEventID' at 0x7fffba667b50>,\n",
       " <TBranchElement 'fRandGenState' at 0x7fffba66c4f0>,\n",
       " <TBranchElement 'fTotalEnergy' at 0x7fffba66ce50>,\n",
       " <TBranchElement 'fIsHeartbeatEvent' at 0x7fffba6727f0>,\n",
       " <TBranchElement 'fEnergyOfDetectorID' at 0x7fffba678190>,\n",
       " <TBranchElement 'eventSteps' (4 subbranches) at 0x7fffba678fa0>,\n",
       " <TBranchElement 'MGTDataObject' at 0x7fffba67e4c0>,\n",
       " <TBranchElement 'fEventID' at 0x7fffba67ee50>,\n",
       " <TBranchElement 'fNSteps' at 0x7fffba6847f0>,\n",
       " <TBranchElement 'fSteps' (26 subbranches) at 0x7fffba689190>,\n",
       " <TBranchElement 'fSteps.MGTDataObject' at 0x7fffba6896a0>,\n",
       " <TBranchElement 'fSteps.fIsPreStep' at 0x7fffba6902b0>,\n",
       " <TBranchElement 'fSteps.fParticleID' at 0x7fffba690c10>,\n",
       " <TBranchElement 'fSteps.fTrackID' at 0x7fffba6955b0>,\n",
       " <TBranchElement 'fSteps.fParentTrackID' at 0x7fffba695f10>,\n",
       " <TBranchElement 'fSteps.fProcessName' at 0x7fffba69d8b0>,\n",
       " <TBranchElement 'fSteps.fPhysVolName' at 0x7fffba6a2250>,\n",
       " <TBranchElement 'fSteps.fCopyNo' at 0x7fffba6a2bb0>,\n",
       " <TBranchElement 'fSteps.fSensVolID' at 0x7fffba629550>,\n",
       " <TBranchElement 'fSteps.fT' at 0x7fffba629eb0>,\n",
       " <TBranchElement 'fSteps.fTimeOffset' at 0x7fffba62f850>,\n",
       " <TBranchElement 'fSteps.fEdep' at 0x7fffba6351f0>,\n",
       " <TBranchElement 'fSteps.fKineticEnergy' at 0x7fffba635b50>,\n",
       " <TBranchElement 'fSteps.fStepLength' at 0x7fffba63a4f0>,\n",
       " <TBranchElement 'fSteps.fTotalTrackLength' at 0x7fffba63ae50>,\n",
       " <TBranchElement 'fSteps.fX' at 0x7fffba6407f0>,\n",
       " <TBranchElement 'fSteps.fY' at 0x7fffba645190>,\n",
       " <TBranchElement 'fSteps.fZ' at 0x7fffba645af0>,\n",
       " <TBranchElement 'fSteps.fLocalX' at 0x7fffba64d490>,\n",
       " <TBranchElement 'fSteps.fLocalY' at 0x7fffba64ddf0>,\n",
       " <TBranchElement 'fSteps.fLocalZ' at 0x7fffba654790>,\n",
       " <TBranchElement 'fSteps.fPx' at 0x7fffba659130>,\n",
       " <TBranchElement 'fSteps.fPy' at 0x7fffba659a90>,\n",
       " <TBranchElement 'fSteps.fPz' at 0x7fffba65e430>,\n",
       " <TBranchElement 'fSteps.fStepNumber' at 0x7fffba65ed90>,\n",
       " <TBranchElement 'fSteps.fTrackWeight' at 0x7fffba665730>,\n",
       " <TBranchElement 'eventPrimaries' (4 subbranches) at 0x7fffba5e9760>,\n",
       " <TBranchElement 'MGTDataObject' at 0x7fffba5e9c40>,\n",
       " <TBranchElement 'fEventID' at 0x7fffba5ef610>,\n",
       " <TBranchElement 'fNSteps' at 0x7fffba5eff70>,\n",
       " <TBranchElement 'fSteps' (26 subbranches) at 0x7fffba5f6910>,\n",
       " <TBranchElement 'fSteps.MGTDataObject' at 0x7fffba5f6e20>,\n",
       " <TBranchElement 'fSteps.fIsPreStep' at 0x7fffba5fba30>,\n",
       " <TBranchElement 'fSteps.fParticleID' at 0x7fffba6043d0>,\n",
       " <TBranchElement 'fSteps.fTrackID' at 0x7fffba604d30>,\n",
       " <TBranchElement 'fSteps.fParentTrackID' at 0x7fffba6096d0>,\n",
       " <TBranchElement 'fSteps.fProcessName' at 0x7fffba611070>,\n",
       " <TBranchElement 'fSteps.fPhysVolName' at 0x7fffba6119d0>,\n",
       " <TBranchElement 'fSteps.fCopyNo' at 0x7fffba615370>,\n",
       " <TBranchElement 'fSteps.fSensVolID' at 0x7fffba615cd0>,\n",
       " <TBranchElement 'fSteps.fT' at 0x7fffba61c670>,\n",
       " <TBranchElement 'fSteps.fTimeOffset' at 0x7fffba61cfd0>,\n",
       " <TBranchElement 'fSteps.fEdep' at 0x7fffba621970>,\n",
       " <TBranchElement 'fSteps.fKineticEnergy' at 0x7fffba5a7310>,\n",
       " <TBranchElement 'fSteps.fStepLength' at 0x7fffba5a7c70>,\n",
       " <TBranchElement 'fSteps.fTotalTrackLength' at 0x7fffba5ad610>,\n",
       " <TBranchElement 'fSteps.fX' at 0x7fffba5adf70>,\n",
       " <TBranchElement 'fSteps.fY' at 0x7fffba5b5910>,\n",
       " <TBranchElement 'fSteps.fZ' at 0x7fffba5ba2b0>,\n",
       " <TBranchElement 'fSteps.fLocalX' at 0x7fffba5bac10>,\n",
       " <TBranchElement 'fSteps.fLocalY' at 0x7fffba5c05b0>,\n",
       " <TBranchElement 'fSteps.fLocalZ' at 0x7fffba5c0f10>,\n",
       " <TBranchElement 'fSteps.fPx' at 0x7fffba5c58b0>,\n",
       " <TBranchElement 'fSteps.fPy' at 0x7fffba5cd250>,\n",
       " <TBranchElement 'fSteps.fPz' at 0x7fffba5cdbb0>,\n",
       " <TBranchElement 'fSteps.fStepNumber' at 0x7fffba5d1550>,\n",
       " <TBranchElement 'fSteps.fTrackWeight' at 0x7fffba5d1eb0>]"
      ]
     },
     "execution_count": 3,
     "metadata": {},
     "output_type": "execute_result"
    }
   ],
   "source": [
    "# Examining the rootfile\n",
    "file[\"fTree\"].values()"
   ]
  },
  {
   "cell_type": "code",
   "execution_count": 4,
   "id": "d8655fb7-9887-40f6-a35d-bb7b88116256",
   "metadata": {},
   "outputs": [],
   "source": [
    "# Each event contains a series of energy deposited in each step\n",
    "Edep=file[\"fTree\"][\"fSteps.fEdep\"].array(library=\"numpy\")\n",
    "#print(Edep)"
   ]
  },
  {
   "cell_type": "code",
   "execution_count": 5,
   "id": "295e244c-e0b6-4737-8846-04404c78ae8c",
   "metadata": {},
   "outputs": [],
   "source": [
    "# The associated active volume in which the energy is deposited\n",
    "PhysVolName=file[\"fTree\"][\"fSteps.fPhysVolName\"].array(library=\"numpy\")\n",
    "#print(PhysVolName)"
   ]
  },
  {
   "cell_type": "code",
   "execution_count": 6,
   "id": "9170757e-cbab-4ac6-9b27-754e035342f5",
   "metadata": {},
   "outputs": [],
   "source": [
    "# The cood [i,j,k] : i = the row number is the evtid; j= det unit; k= string assembly\n",
    "# No. of Strings = 12, No of Det per string = 8\n",
    "#\n",
    "# 'etab' is the table of energy deposited\n",
    "etab=numpy.zeros([PhysVolName.size,8,12], dtype=object)# index runs from 0 to 196378\n",
    "#print(etab)\n",
    "#\n",
    "# 'hits' is the table of hits in the region of interest )(defined below)\n",
    "hits=numpy.zeros([8,12], dtype=object)# index runs from 0 to 196378\n",
    "#print(hits)\n",
    "#\n",
    "# Defining the energy ROI, by defining the centroid and half-window\n",
    "centE = 2.6145\n",
    "deltaE = 0.0001\n",
    "minE = centE - deltaE\n",
    "maxE = centE + deltaE"
   ]
  },
  {
   "cell_type": "code",
   "execution_count": 7,
   "id": "da23b702-bcd7-404e-9292-8d559638a873",
   "metadata": {},
   "outputs": [],
   "source": [
    "# Looping over the events, extracting the energy deposited detector by detector and appropriately summing\n",
    "# This takes care of possible scatters between detectors in a single event\n",
    "for i in range(len(Edep)):\n",
    "    for (E,volline) in zip(Edep[i],PhysVolName[i]):\n",
    "        SAno,DUno=indext(volline)\n",
    "        etab[i, DUno-1, SAno-1]=etab[i, DUno-1, SAno-1] + E"
   ]
  },
  {
   "cell_type": "code",
   "execution_count": 12,
   "id": "39272987-7689-4ac2-be75-99a43e66485e",
   "metadata": {},
   "outputs": [],
   "source": [
    "# Now that the total energy deposited in each event and in each detector has been computed,\n",
    "# extracting the hits in the region of interest\n",
    "for i in range(len(Edep)):\n",
    "    for j in range(0,8):\n",
    "        for k in range(0,12):\n",
    "            if ((minE<= etab[i,j,k]) & (etab[i,j,k] <= maxE)):\n",
    "                hits[j, k] = hits[j, k] + 1"
   ]
  },
  {
   "cell_type": "code",
   "execution_count": 24,
   "id": "799923e3-b5ef-40c4-a10d-c3af9d8fe492",
   "metadata": {},
   "outputs": [
    {
     "name": "stdout",
     "output_type": "stream",
     "text": [
      "[[0 0 0 0 0 0 0 0 0 0 0 0]\n",
      " [0 0 0 0 0 0 0 0 0 0 0 0]\n",
      " [0.5714850357227821 0 0 0 0 0 0 0 0 0 0 0]\n",
      " [0 0.12559136504641755 0 0 0 0 0 0 0 0 0 0]\n",
      " [0 0 0 0 0 0 0 0 0 0 0 0]\n",
      " [0 0 0 0 0 0 0 0 0 0 0 0]\n",
      " [0 0 0 0 0 0 0 0 0 0 0 0]\n",
      " [0 0 0 0 0 0 0 0 0 0 0 0]]\n"
     ]
    }
   ],
   "source": [
    "print(etab[40])"
   ]
  },
  {
   "cell_type": "code",
   "execution_count": 9,
   "id": "b382b136-0ab8-4301-965e-0c85ac59b05b",
   "metadata": {},
   "outputs": [
    {
     "name": "stdout",
     "output_type": "stream",
     "text": [
      "[[0 0 0 0 0 0 0 0 0 0 0 0]\n",
      " [0 0 0 0 0 0 0 0 0 0 0 0]\n",
      " [0 0 0 0 0 0 0 1 0 0 0 0]\n",
      " [1 0 0 0 0 0 3 3 0 0 0 0]\n",
      " [1 3 0 0 0 0 7 3 0 0 0 0]\n",
      " [10 4 0 0 0 0 8 0 0 0 0 0]\n",
      " [15 32 0 0 0 0 18 0 0 0 0 0]\n",
      " [104 0 0 0 0 0 29 0 0 0 0 0]]\n"
     ]
    }
   ],
   "source": [
    "print(hits)"
   ]
  },
  {
   "cell_type": "code",
   "execution_count": 10,
   "id": "6ad44c51-f343-4047-9b2e-4bbc222cfcab",
   "metadata": {},
   "outputs": [
    {
     "name": "stdout",
     "output_type": "stream",
     "text": [
      "./fresults/LGND_200_60kg_Calibration_wSourceNumber_41_Height_-1000mm.txt\n"
     ]
    }
   ],
   "source": [
    "# Setting the output file\n",
    "start = inpath.find('LGND_200')\n",
    "end = inpath.find('.root')\n",
    "outpath=\"./fresults/\" + inpath[start:end] + \".txt\"\n",
    "print(outpath)"
   ]
  },
  {
   "cell_type": "code",
   "execution_count": 11,
   "id": "1a628f0d-9052-47f9-83b6-96d2fb0a0d8f",
   "metadata": {},
   "outputs": [],
   "source": [
    "outfile = open(outpath,'w')\n",
    "outfile.write(\"String assembly on the columns and detector units on the rows\\n\")\n",
    "outfile.write(\"infile: \")\n",
    "#outfile.write(infile)\n",
    "outfile.write(\"\\n\")\n",
    "numpy.savetxt(outfile, hits, fmt = \"%4.0f\") \n",
    "#numpy.savetxt(outfile, hits, fmt = \"%6.0f\") \n",
    "outfile.close()"
   ]
  },
  {
   "cell_type": "code",
   "execution_count": null,
   "id": "f22fe236-0cea-4645-826d-f46d10fb965d",
   "metadata": {},
   "outputs": [],
   "source": []
  }
 ],
 "metadata": {
  "kernelspec": {
   "display_name": "legend-sw",
   "language": "python",
   "name": "legend-sw"
  },
  "language_info": {
   "codemirror_mode": {
    "name": "ipython",
    "version": 3
   },
   "file_extension": ".py",
   "mimetype": "text/x-python",
   "name": "python",
   "nbconvert_exporter": "python",
   "pygments_lexer": "ipython3",
   "version": "3.9.15"
  }
 },
 "nbformat": 4,
 "nbformat_minor": 5
}
