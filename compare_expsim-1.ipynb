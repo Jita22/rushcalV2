{
 "cells": [
  {
   "cell_type": "code",
   "execution_count": 1,
   "id": "d780429b-2486-4892-a4f6-4c3fcb87a679",
   "metadata": {},
   "outputs": [],
   "source": [
    "import math\n",
    "import numpy as np\n",
    "\n",
    "# Initiliaze the numpy array with zeros\n",
    "# Note added an extra element at the 0th index to allow the indices and source numbering to match up\n",
    "S = [0, 2922, 1728, 2603, 2502, 4675, 3337, 6034, 7431, 3977, 266, 2093, 6087, 5567, 5521, 6278, 4322, 335]\n",
    "Serr = [0, 133, 72, 88, 86, 146, 113, 166, 175, 136, 46, 84, 167, 162, 160, 257, 141, 33]\n",
    "\n",
    "SIS1_Act = S[16] + S[6] + S[4] + S[15]\n",
    "SIS2_Act = S[5] + S[9] + S[2] + S[7]\n",
    "SIS3_Act = S[14] + S[3] + S[11] + S[12]\n",
    "SIS4_Act = S[13] + S[1] + S[17] + S[8]\n",
    "\n",
    "SIS1_ActErr = math.sqrt(Serr[16]*Serr[16] + Serr[6]*Serr[6] + Serr[4]*Serr[4] + Serr[15]*Serr[15])\n",
    "SIS2_ActErr= math.sqrt(Serr[5]*Serr[5] + Serr[9]*Serr[9] + Serr[2]*Serr[2] + Serr[7]*Serr[7])\n",
    "SIS3_ActErr = math.sqrt(Serr[14]*Serr[14] + Serr[3]*Serr[3] + Serr[11]*Serr[11] + Serr[12]*Serr[12])\n",
    "SIS4_ActErr = math.sqrt(Serr[13]*Serr[13] + Serr[1]*Serr[1] + Serr[17]*Serr[17] + Serr[8]*Serr[8])"
   ]
  },
  {
   "cell_type": "code",
   "execution_count": 2,
   "id": "6aae0bd2-784b-46d0-89bf-27748a1d0b2b",
   "metadata": {},
   "outputs": [
    {
     "name": "stdout",
     "output_type": "stream",
     "text": [
      "Activities as on 9th Feb 2021:\n",
      "SIS1: 16439 ( 325 ) Bq\n",
      "SIS2: 16414 ( 269 ) Bq\n",
      "SIS3: 16304 ( 261 ) Bq\n",
      "SIS4: 16255 ( 275 ) Bq\n"
     ]
    }
   ],
   "source": [
    "print (\"Activities as on 9th Feb 2021:\")\n",
    "print (\"SIS1:\", SIS1_Act ,\"(\", int(SIS1_ActErr), \")\" , \"Bq\")\n",
    "print (\"SIS2:\", SIS2_Act ,\"(\", int(SIS2_ActErr), \")\" , \"Bq\")\n",
    "print (\"SIS3:\", SIS3_Act ,\"(\", int(SIS3_ActErr), \")\" , \"Bq\")\n",
    "print (\"SIS4:\", SIS4_Act ,\"(\", int(SIS4_ActErr), \")\" , \"Bq\")"
   ]
  },
  {
   "cell_type": "code",
   "execution_count": 3,
   "id": "30a37cb5-d886-45e1-8f09-28c03b588a5e",
   "metadata": {},
   "outputs": [
    {
     "name": "stdout",
     "output_type": "stream",
     "text": [
      "The half-life is 1.9 years.\n"
     ]
    }
   ],
   "source": [
    "print (\"The half-life is 1.9 years.\")"
   ]
  },
  {
   "cell_type": "code",
   "execution_count": 4,
   "id": "98bd2a6e-2f75-4739-9dec-9f10d07c7c92",
   "metadata": {},
   "outputs": [
    {
     "name": "stdout",
     "output_type": "stream",
     "text": [
      "Difference is 523 days\n",
      "Difference is 1.43 years\n"
     ]
    }
   ],
   "source": [
    "# Difference between the dates\n",
    "from datetime import datetime\n",
    "#import datetime doesn't work for some reason\n",
    "str_d1= '2021/02/9'\n",
    "str_d2= '2022/07/16'\n",
    "# convert string to date object\n",
    "time1 = datetime.strptime(str_d1, \"%Y/%m/%d\")\n",
    "time2 = datetime.strptime(str_d2, \"%Y/%m/%d\")\n",
    "# difference between dates (exclusive of the last day) \n",
    "delta = time2 - time1\n",
    "# The last day is included, hence, +1\n",
    "print(f'Difference is {(delta.days)+1} days')\n",
    "delta_yr=((delta.days)+1)/365.25\n",
    "print(f'Difference is {round(delta_yr,2)} years')"
   ]
  },
  {
   "cell_type": "code",
   "execution_count": 5,
   "id": "6697c010-ddf8-43be-8fac-342bb5bf92e3",
   "metadata": {},
   "outputs": [
    {
     "name": "stdout",
     "output_type": "stream",
     "text": [
      "Activities as on 16 July 2022:\n",
      "SIS1: 9751 ( 193 ) Bq\n",
      "SIS2: 9736 ( 159 ) Bq\n",
      "SIS3: 9751 ( 193 ) Bq\n",
      "SIS4: 9751 ( 193 ) Bq\n"
     ]
    }
   ],
   "source": [
    "#A=A0 exp(-0.693*t/halflife)\n",
    "SIS1_Act2 = SIS1_Act * math.exp(-0.693*delta_yr/1.9)\n",
    "SIS2_Act2= SIS2_Act * math.exp(-0.693*delta_yr/1.9)\n",
    "SIS3_Act2 = SIS1_Act * math.exp(-0.693*delta_yr/1.9)\n",
    "SIS4_Act2 = SIS1_Act * math.exp(-0.693*delta_yr/1.9)\n",
    "\n",
    "SIS1_ActErr2 = SIS1_ActErr * math.exp(-0.693*delta_yr/1.9)\n",
    "SIS2_ActErr2= SIS2_ActErr * math.exp(-0.693*delta_yr/1.9)\n",
    "SIS3_ActErr2 = SIS1_ActErr * math.exp(-0.693*delta_yr/1.9)\n",
    "SIS4_ActErr2 = SIS1_ActErr * math.exp(-0.693*delta_yr/1.9)\n",
    "\n",
    "# Change in the activities\n",
    "print(f'Activities as on {time2.day} {time2.strftime(\"%B\")} {time2.year}:')\n",
    "print (\"SIS1:\",int (SIS1_Act2) ,\"(\", int(SIS1_ActErr2), \")\" , \"Bq\")\n",
    "print (\"SIS2:\", int (SIS2_Act2) ,\"(\", int(SIS2_ActErr2), \")\" , \"Bq\")\n",
    "print (\"SIS3:\", int(SIS3_Act2) ,\"(\", int(SIS3_ActErr2), \")\" , \"Bq\")\n",
    "print (\"SIS4:\", int(SIS4_Act2) ,\"(\", int(SIS4_ActErr2), \")\" , \"Bq\")"
   ]
  },
  {
   "cell_type": "code",
   "execution_count": 6,
   "id": "35c03e49-16e4-41b5-93e1-5ef8d1f5f66b",
   "metadata": {},
   "outputs": [
    {
     "name": "stdout",
     "output_type": "stream",
     "text": [
      "Activities of individual sources as on 16 July 2022:\n",
      "S2[1] = 1733 (78) Bq\n",
      "S2[2] = 1025 (42) Bq\n",
      "S2[3] = 1544 (52) Bq\n",
      "S2[4] = 1484 (51) Bq\n",
      "S2[5] = 2773 (86) Bq\n",
      "S2[6] = 1979 (67) Bq\n",
      "S2[7] = 3579 (98) Bq\n",
      "S2[8] = 4407 (103) Bq\n",
      "S2[9] = 2359 (80) Bq\n",
      "S2[10] = 157 (27) Bq\n",
      "S2[11] = 1241 (49) Bq\n",
      "S2[12] = 3610 (99) Bq\n",
      "S2[13] = 3302 (96) Bq\n",
      "S2[14] = 3274 (94) Bq\n",
      "S2[15] = 3723 (152) Bq\n",
      "S2[16] = 2563 (83) Bq\n",
      "S2[17] = 198 (19) Bq\n"
     ]
    }
   ],
   "source": [
    "# Also print out the individual source activities\n",
    "#A=A0 exp(-0.693*t/halflife)\n",
    "S2=[]\n",
    "Serr2=[]\n",
    "S2 = [0 for i in range(18)] \n",
    "Serr2 = [0 for i in range(18)] \n",
    "print(f'Activities of individual sources as on {time2.day} {time2.strftime(\"%B\")} {time2.year}:')\n",
    "for i in range(1,18):\n",
    "    S2[i]=S[i]* math.exp(-0.693*delta_yr/1.9)\n",
    "    Serr2[i]=Serr[i]* math.exp(-0.693*delta_yr/1.9)\n",
    "    print (f'S2[{i}] = {int(S2[i])} ({int(Serr2[i])}) Bq')"
   ]
  },
  {
   "cell_type": "code",
   "execution_count": 7,
   "id": "db282b47-2474-492c-a345-05201cb40d47",
   "metadata": {},
   "outputs": [
    {
     "name": "stdout",
     "output_type": "stream",
     "text": [
      "Scaled counts as on 16 July 2022 for 30 min:\n",
      "Cts[1] = 3119865 (142006)\n",
      "Cts[2] = 1845012 (76875)\n",
      "Cts[3] = 2779263 (93958)\n",
      "Cts[4] = 2671424 (91823)\n",
      "Cts[5] = 4991570 (155886)\n",
      "Cts[6] = 3562967 (120651)\n",
      "Cts[7] = 6442596 (177240)\n",
      "Cts[8] = 7934194 (186850)\n",
      "Cts[9] = 4246305 (145209)\n",
      "Cts[10] = 284012 (49114)\n",
      "Cts[11] = 2234728 (89688)\n",
      "Cts[12] = 6499185 (178308)\n",
      "Cts[13] = 5943972 (172969)\n",
      "Cts[14] = 5894858 (170834)\n",
      "Cts[15] = 6703118 (274402)\n",
      "Cts[16] = 4614667 (150547)\n",
      "Cts[17] = 357684 (35234)\n"
     ]
    }
   ],
   "source": [
    "# Print out the number of decays in a given run time\n",
    "# dN/dt is pseudo-constant in this scenario, as the half-life is much longer than the runtime\n",
    "Cts=[]\n",
    "Ctserr=[]\n",
    "Cts = [0 for i in range(18)] \n",
    "Ctserr = [0 for i in range(18)] \n",
    "runtime_min = 30 # in min\n",
    "runtime_sec = runtime_min * 60\n",
    "print(f'Scaled counts as on {time2.day} {time2.strftime(\"%B\")} {time2.year} for {runtime_min} min:')\n",
    "for i in range(1,18):\n",
    "    Cts[i]=int(S2[i]*runtime_sec)\n",
    "    Ctserr[i]=int(Serr2[i]*runtime_sec)\n",
    "    print (f'Cts[{i}] = {Cts[i]} ({Ctserr[i]})')"
   ]
  },
  {
   "cell_type": "code",
   "execution_count": 8,
   "id": "3fae3a8b-c34c-47e4-87e0-ea965a010af2",
   "metadata": {},
   "outputs": [
    {
     "name": "stdout",
     "output_type": "stream",
     "text": [
      "sf[1] = 3.119865\n",
      "sf[2] = 1.845012\n",
      "sf[3] = 2.779263\n",
      "sf[4] = 2.671424\n",
      "sf[5] = 4.99157\n",
      "sf[6] = 3.562967\n",
      "sf[7] = 6.442596\n",
      "sf[8] = 7.934194\n",
      "sf[9] = 4.246305\n",
      "sf[10] = 0.284012\n",
      "sf[11] = 2.234728\n",
      "sf[12] = 6.499185\n",
      "sf[13] = 5.943972\n",
      "sf[14] = 5.894858\n",
      "sf[15] = 6.703118\n",
      "sf[16] = 4.614667\n",
      "sf[17] = 0.357684\n"
     ]
    }
   ],
   "source": [
    "# Print out the scale factor experiment/simulation (sf):\n",
    "# This is the nirmalization of the 228Th decays, comsidering the activity to be constant in the runtime since \n",
    "# the half -life is 1.9 years.\n",
    "sf=[]\n",
    "#Ctserr=[]\n",
    "sf = [0 for i in range(18)] \n",
    "#Ctserr = [0 for i in range(18)] \n",
    "for i in range(1,18):\n",
    "    sf[i]=Cts[i]/1e6\n",
    "    #Ctserr[i]=int(Serr2[i]*runtime_sec)\n",
    "    print (f'sf[{i}] = {sf[i]}')"
   ]
  },
  {
   "cell_type": "code",
   "execution_count": 9,
   "id": "4bd4dc4b-1328-4a08-bc60-55dcba32f987",
   "metadata": {},
   "outputs": [
    {
     "name": "stdout",
     "output_type": "stream",
     "text": [
      "[0, 3.119865, 1.845012, 2.779263, 2.671424, 4.99157, 3.562967, 6.442596, 7.934194, 4.246305, 0.284012, 2.234728, 6.499185, 5.943972, 5.894858, 6.703118, 4.614667, 0.357684]\n"
     ]
    }
   ],
   "source": [
    "print(sf)"
   ]
  },
  {
   "cell_type": "markdown",
   "id": "0c403364-d51a-43eb-9ff6-a3f110d59ef7",
   "metadata": {},
   "source": [
    "Private Comm. with Ralph:<br> Positions of the sources in MAGE\n",
    " <table ><tr><th >LEGEND position # <th><th> source 1 <th><th> source 2 <th><th> source 3 <th><th> source 4<tr><tr>\n",
    "        <tr><th> end of the tube <th><th> lowest <th><th> <th><th> <th><th> highest  <tr><tr>\n",
    "        <tr><td> 8800 <td><td> -400 <td><td> -280 <td><td> -180 <td><td> -80<td><tr>\n",
    "        <tr><td> 8600 <td><td> -200 <td><td> -80 <td><td> 20 <td><td> <font color=red>  120<td><tr>\n",
    "        <tr><td> 8400 <td><td> 0 <td><td> <font color=red>  120 <td><td> <font color=red>  220 <td><td> <font color=red>  320<td><tr>\n",
    "        <tr><td> 8200 <td><td> <font color=red>  200 <td><td> <font color=red>  320 <td><td> <font color=red> 420 <td><td> <font color=red> 520 <font><td><tr><table>"
   ]
  },
  {
   "cell_type": "code",
   "execution_count": 10,
   "id": "3ac29ea1-f187-4dc7-b84d-5481b31cfe0b",
   "metadata": {},
   "outputs": [],
   "source": [
    "# SIS1 Position 1\n",
    "arr11pos1 = np.loadtxt(\"./fresults/LGND_200_60kg_Calibration_wSourceNumber_41_Height_-400mm.txt\",  dtype=int, skiprows=2,)\n",
    "#print(arr11pos1)\n",
    "\n",
    "arr12pos1 = np.loadtxt(\"./fresults/LGND_200_60kg_Calibration_wSourceNumber_41_Height_-280mm.txt\",  dtype=int, skiprows=2,)\n",
    "#print(arr12pos1)\n",
    "\n",
    "arr13pos1 = np.loadtxt(\"./fresults/LGND_200_60kg_Calibration_wSourceNumber_41_Height_-180mm.txt\",  dtype=int, skiprows=2,)\n",
    "#print(arr13pos1)\n",
    "\n",
    "arr14pos1 = np.loadtxt(\"./fresults/LGND_200_60kg_Calibration_wSourceNumber_41_Height_-80mm.txt\",  dtype=int, skiprows=2,)\n",
    "#print(arr14pos1)\n",
    "\n",
    "# SIS1 : 16-6-4-15\n",
    "SIS1arrpos1 = sf[16]*arr11pos1 + sf[6]*arr12pos1 + sf[4]*arr13pos1 + sf[15]*arr14pos1\n",
    "#print(SIS1arrpos1)\n",
    "\n",
    "\n",
    "# SIS2 Position 1\n",
    "arr21pos1 = np.loadtxt(\"./fresults/LGND_200_60kg_Calibration_wSourceNumber_42_Height_-400mm.txt\",  dtype=int, skiprows=2,)\n",
    "#print(arr21pos1)\n",
    "\n",
    "arr22pos1 = np.loadtxt(\"./fresults/LGND_200_60kg_Calibration_wSourceNumber_42_Height_-280mm.txt\",  dtype=int, skiprows=2,)\n",
    "#print(arr22pos1)\n",
    "\n",
    "arr23pos1 = np.loadtxt(\"./fresults/LGND_200_60kg_Calibration_wSourceNumber_42_Height_-180mm.txt\",  dtype=int, skiprows=2,)\n",
    "#print(arr23pos1)\n",
    "\n",
    "arr24pos1 = np.loadtxt(\"./fresults/LGND_200_60kg_Calibration_wSourceNumber_42_Height_-80mm.txt\",  dtype=int, skiprows=2,)\n",
    "#print(arr24pos1)\n",
    "\n",
    "# SIS2 : 5-9-2-7\n",
    "SIS2arrpos1 = sf[5]*arr21pos1 + sf[9]*arr22pos1 + sf[2]*arr23pos1 + sf[7]*arr24pos1\n",
    "#print(SIS2arrpos1)\n",
    "\n",
    "\n",
    "# SIS3 Position 1\n",
    "arr31pos1 = np.loadtxt(\"./fresults/LGND_200_60kg_Calibration_wSourceNumber_43_Height_-400mm.txt\",  dtype=int, skiprows=2,)\n",
    "#print(arr31pos1)\n",
    "\n",
    "# SIS3 Position 1\n",
    "arr32pos1 = np.loadtxt(\"./fresults/LGND_200_60kg_Calibration_wSourceNumber_43_Height_-280mm.txt\",  dtype=int, skiprows=2,)\n",
    "#print(arr32pos1)\n",
    "\n",
    "arr33pos1 = np.loadtxt(\"./fresults/LGND_200_60kg_Calibration_wSourceNumber_43_Height_-180mm.txt\",  dtype=int, skiprows=2,)\n",
    "#print(arr33pos1)\n",
    "\n",
    "arr34pos1 = np.loadtxt(\"./fresults/LGND_200_60kg_Calibration_wSourceNumber_43_Height_-80mm.txt\",  dtype=int, skiprows=2,)\n",
    "#print(arr34pos1)\n",
    "\n",
    "# SIS3 : 14-3-11-12\n",
    "SIS3arrpos1 = sf[14]*arr31pos1 + sf[3]*arr32pos1 + sf[11]*arr33pos1 + sf[12]*arr34pos1\n",
    "#print(SIS3arrpos1)\n",
    "\n",
    "\n",
    "# SIS4 Position 1\n",
    "arr41pos1 = np.loadtxt(\"./fresults/LGND_200_60kg_Calibration_wSourceNumber_44_Height_-400mm.txt\",  dtype=int, skiprows=2,)\n",
    "#print(arr41pos1)\n",
    "\n",
    "arr42pos1 = np.loadtxt(\"./fresults/LGND_200_60kg_Calibration_wSourceNumber_44_Height_-280mm.txt\",  dtype=int, skiprows=2,)\n",
    "#print(arr42pos1)\n",
    "\n",
    "arr43pos1 = np.loadtxt(\"./fresults/LGND_200_60kg_Calibration_wSourceNumber_44_Height_-180mm.txt\",  dtype=int, skiprows=2,)\n",
    "#print(arr43pos1)\n",
    "\n",
    "arr44pos1 = np.loadtxt(\"./fresults/LGND_200_60kg_Calibration_wSourceNumber_44_Height_-80mm.txt\",  dtype=int, skiprows=2,)\n",
    "#print(arr44pos1)\n",
    "\n",
    "# SIS4 : 13-1-17-8\n",
    "SIS4arrpos1 = sf[13]*arr41pos1 + sf[1]*arr42pos1 + sf[17]*arr43pos1 + sf[8]*arr44pos1\n",
    "#print(SIS4arrpos1)"
   ]
  },
  {
   "cell_type": "code",
   "execution_count": 11,
   "id": "d54330ef-444d-4cef-af72-6e32d7f68b91",
   "metadata": {},
   "outputs": [],
   "source": [
    "# SIS1 Position 2\n",
    "\n",
    "arr11pos2 = np.loadtxt(\"./fresults/LGND_200_60kg_Calibration_wSourceNumber_41_Height_-200mm.txt\",  dtype=int, skiprows=2,)\n",
    "#print(arr11pos2)\n",
    "\n",
    "arr12pos2 = np.loadtxt(\"./fresults/LGND_200_60kg_Calibration_wSourceNumber_41_Height_-80mm.txt\",  dtype=int, skiprows=2,)\n",
    "#print(arr12pos2)\n",
    "\n",
    "arr13pos2 = np.loadtxt(\"./fresults/LGND_200_60kg_Calibration_wSourceNumber_41_Height_20mm.txt\",  dtype=int, skiprows=2,)\n",
    "#print(arr13pos2)\n",
    "\n",
    "arr14pos2 = np.loadtxt(\"./fresults/LGND_200_60kg_Calibration_wSourceNumber_41_Height_120mm.txt\",  dtype=int, skiprows=2,)\n",
    "#print(arr14pos2)\n",
    "\n",
    "# SIS1 : 16-6-4-15\n",
    "SIS1arrpos2 = sf[16]*arr11pos2 + sf[6]*arr12pos2 + sf[4]*arr13pos2 + sf[15]*arr14pos2\n",
    "#print(SIS1arr)\n",
    "\n",
    "\n",
    "# SIS2 Position 2\n",
    "arr21pos2 = np.loadtxt(\"./fresults/LGND_200_60kg_Calibration_wSourceNumber_42_Height_-200mm.txt\",  dtype=int, skiprows=2,)\n",
    "#print(arr11pos2)\n",
    "\n",
    "arr22pos2 = np.loadtxt(\"./fresults/LGND_200_60kg_Calibration_wSourceNumber_42_Height_-80mm.txt\",  dtype=int, skiprows=2,)\n",
    "#print(arr12pos2)\n",
    "\n",
    "arr23pos2 = np.loadtxt(\"./fresults/LGND_200_60kg_Calibration_wSourceNumber_42_Height_20mm.txt\",  dtype=int, skiprows=2,)\n",
    "#print(arr13pos2)\n",
    "\n",
    "arr24pos2 = np.loadtxt(\"./fresults/LGND_200_60kg_Calibration_wSourceNumber_42_Height_120mm.txt\",  dtype=int, skiprows=2,)\n",
    "#print(arr14pos2)\n",
    "\n",
    "# SIS2 : 5-9-2-7\n",
    "SIS2arrpos2 = sf[5]*arr21pos2 + sf[9]*arr22pos2 + sf[2]*arr23pos2 + sf[7]*arr24pos2\n",
    "#print(SIS2arrpos2)\n",
    "\n",
    "\n",
    "# SIS3 Position 2\n",
    "arr31pos2 = np.loadtxt(\"./fresults/LGND_200_60kg_Calibration_wSourceNumber_43_Height_-200mm.txt\",  dtype=int, skiprows=2,)\n",
    "#print(arr11pos2)\n",
    "\n",
    "arr32pos2 = np.loadtxt(\"./fresults/LGND_200_60kg_Calibration_wSourceNumber_43_Height_-80mm.txt\",  dtype=int, skiprows=2,)\n",
    "#print(arr12pos2)\n",
    "\n",
    "arr33pos2 = np.loadtxt(\"./fresults/LGND_200_60kg_Calibration_wSourceNumber_43_Height_20mm.txt\",  dtype=int, skiprows=2,)\n",
    "#print(arr13pos2)\n",
    "\n",
    "arr34pos2 = np.loadtxt(\"./fresults/LGND_200_60kg_Calibration_wSourceNumber_43_Height_120mm.txt\",  dtype=int, skiprows=2,)\n",
    "#print(arr14pos2)\n",
    "\n",
    "# SIS3 : 14-3-11-12\n",
    "SIS3arrpos2 = sf[14]*arr31pos2 + sf[3]*arr32pos2 + sf[11]*arr33pos2 + sf[12]*arr34pos2\n",
    "#print(SIS3arrpos2)\n",
    "\n",
    "\n",
    "# SIS4 Position 2\n",
    "arr41pos2 = np.loadtxt(\"./fresults/LGND_200_60kg_Calibration_wSourceNumber_44_Height_-200mm.txt\",  dtype=int, skiprows=2,)\n",
    "#print(arr11pos2)\n",
    "\n",
    "arr42pos2 = np.loadtxt(\"./fresults/LGND_200_60kg_Calibration_wSourceNumber_44_Height_-80mm.txt\",  dtype=int, skiprows=2,)\n",
    "#print(arr12pos2)\n",
    "\n",
    "arr43pos2 = np.loadtxt(\"./fresults/LGND_200_60kg_Calibration_wSourceNumber_44_Height_20mm.txt\",  dtype=int, skiprows=2,)\n",
    "#print(arr13pos2)\n",
    "\n",
    "arr44pos2 = np.loadtxt(\"./fresults/LGND_200_60kg_Calibration_wSourceNumber_44_Height_120mm.txt\",  dtype=int, skiprows=2,)\n",
    "#print(arr14pos2)\n",
    "\n",
    "# SIS4 : 13-1-17-8\n",
    "SIS4arrpos2 = sf[13]*arr41pos2 + sf[1]*arr42pos2 + sf[17]*arr43pos2 + sf[8]*arr44pos2\n",
    "#print(SIS4arrpos2)"
   ]
  },
  {
   "cell_type": "code",
   "execution_count": 12,
   "id": "bddc5dfd-1c4b-4d23-b34e-d179c11f16d3",
   "metadata": {},
   "outputs": [],
   "source": [
    "# SIS1 Position 3\n",
    "\n",
    "arr11pos3 = np.loadtxt(\"./fresults/LGND_200_60kg_Calibration_wSourceNumber_41_Height_0mm.txt\",  dtype=int, skiprows=2,)\n",
    "#print(arr11)\n",
    "\n",
    "arr12pos3 = np.loadtxt(\"./fresults/LGND_200_60kg_Calibration_wSourceNumber_41_Height_120mm.txt\",  dtype=int, skiprows=2,)\n",
    "#print(arr12)\n",
    "\n",
    "arr13pos3 = np.loadtxt(\"./fresults/LGND_200_60kg_Calibration_wSourceNumber_41_Height_220mm.txt\",  dtype=int, skiprows=2,)\n",
    "#print(arr13)\n",
    "\n",
    "arr14pos3 = np.loadtxt(\"./fresults/LGND_200_60kg_Calibration_wSourceNumber_41_Height_320mm.txt\",  dtype=int, skiprows=2,)\n",
    "#print(arr14)\n",
    "\n",
    "# SIS1 : 16-6-4-15\n",
    "SIS1arrpos3 = sf[16]*arr11pos3 + sf[6]*arr12pos3 + sf[4]*arr13pos3 + sf[15]*arr14pos3\n",
    "#print(SIS1arr)\n",
    "\n",
    "\n",
    "# SIS2 Position 3\n",
    "arr21pos3 = np.loadtxt(\"./fresults/LGND_200_60kg_Calibration_wSourceNumber_42_Height_0mm.txt\",  dtype=int, skiprows=2,)\n",
    "#print(arr11)\n",
    "\n",
    "arr22pos3 = np.loadtxt(\"./fresults/LGND_200_60kg_Calibration_wSourceNumber_42_Height_120mm.txt\",  dtype=int, skiprows=2,)\n",
    "#print(arr12)\n",
    "\n",
    "arr23pos3 = np.loadtxt(\"./fresults/LGND_200_60kg_Calibration_wSourceNumber_42_Height_220mm.txt\",  dtype=int, skiprows=2,)\n",
    "#print(arr13)\n",
    "\n",
    "arr24pos3 = np.loadtxt(\"./fresults/LGND_200_60kg_Calibration_wSourceNumber_42_Height_320mm.txt\",  dtype=int, skiprows=2,)\n",
    "#print(arr14)\n",
    "\n",
    "# SIS2 : 5-9-2-7\n",
    "SIS2arrpos3 = sf[5]*arr21pos3 + sf[9]*arr22pos3 + sf[2]*arr23pos3 + sf[7]*arr24pos3\n",
    "#print(SIS2arr)\n",
    "\n",
    "\n",
    "# SIS3 Position 3\n",
    "arr31pos3 = np.loadtxt(\"./fresults/LGND_200_60kg_Calibration_wSourceNumber_43_Height_0mm.txt\",  dtype=int, skiprows=2,)\n",
    "#print(arr11)\n",
    "\n",
    "arr32pos3 = np.loadtxt(\"./fresults/LGND_200_60kg_Calibration_wSourceNumber_43_Height_120mm.txt\",  dtype=int, skiprows=2,)\n",
    "#print(arr12)\n",
    "\n",
    "arr33pos3 = np.loadtxt(\"./fresults/LGND_200_60kg_Calibration_wSourceNumber_43_Height_220mm.txt\",  dtype=int, skiprows=2,)\n",
    "#print(arr13)\n",
    "\n",
    "arr34pos3 = np.loadtxt(\"./fresults/LGND_200_60kg_Calibration_wSourceNumber_43_Height_320mm.txt\",  dtype=int, skiprows=2,)\n",
    "#print(arr14)\n",
    "\n",
    "# SIS3 : 14-3-11-12\n",
    "SIS3arrpos3 = sf[14]*arr31pos3 + sf[3]*arr32pos3 + sf[11]*arr33pos3 + sf[12]*arr34pos3\n",
    "#print(SIS3arr)\n",
    "\n",
    "\n",
    "# SIS4 Position 3\n",
    "arr41pos3 = np.loadtxt(\"./fresults/LGND_200_60kg_Calibration_wSourceNumber_44_Height_0mm.txt\",  dtype=int, skiprows=2,)\n",
    "#print(arr11)\n",
    "\n",
    "arr42pos3 = np.loadtxt(\"./fresults/LGND_200_60kg_Calibration_wSourceNumber_44_Height_120mm.txt\",  dtype=int, skiprows=2,)\n",
    "#print(arr12)\n",
    "\n",
    "arr43pos3 = np.loadtxt(\"./fresults/LGND_200_60kg_Calibration_wSourceNumber_44_Height_220mm.txt\",  dtype=int, skiprows=2,)\n",
    "#print(arr13)\n",
    "\n",
    "arr44pos3 = np.loadtxt(\"./fresults/LGND_200_60kg_Calibration_wSourceNumber_44_Height_320mm.txt\",  dtype=int, skiprows=2,)\n",
    "#print(arr14)\n",
    "\n",
    "# SIS4 : 13-1-17-8\n",
    "SIS4arrpos3 = sf[13]*arr41pos3+ sf[1]*arr42pos3 + sf[17]*arr43pos3 + sf[8]*arr44pos3\n",
    "#print(SIS4arr)"
   ]
  },
  {
   "cell_type": "code",
   "execution_count": 13,
   "id": "f775b4c7-dc00-49ff-be4d-5f8d57541bf0",
   "metadata": {},
   "outputs": [],
   "source": [
    "# SIS1 Position 4\n",
    "\n",
    "arr11pos4 = np.loadtxt(\"./fresults/LGND_200_60kg_Calibration_wSourceNumber_41_Height_200mm.txt\",  dtype=int, skiprows=2,)\n",
    "#print(arr11)\n",
    "\n",
    "arr12pos4 = np.loadtxt(\"./fresults/LGND_200_60kg_Calibration_wSourceNumber_41_Height_320mm.txt\",  dtype=int, skiprows=2,)\n",
    "#print(arr12)\n",
    "\n",
    "arr13pos4 = np.loadtxt(\"./fresults/LGND_200_60kg_Calibration_wSourceNumber_41_Height_420mm.txt\",  dtype=int, skiprows=2,)\n",
    "#print(arr13)\n",
    "\n",
    "arr14pos4 = np.loadtxt(\"./fresults/LGND_200_60kg_Calibration_wSourceNumber_41_Height_520mm.txt\",  dtype=int, skiprows=2,)\n",
    "#print(arr14)\n",
    "\n",
    "# SIS1 : 16-6-4-15\n",
    "SIS1arrpos4 = sf[16]*arr11pos4 + sf[6]*arr12pos4 + sf[4]*arr13pos4 + sf[15]*arr14pos4\n",
    "#print(SIS1arr)\n",
    "\n",
    "\n",
    "# SIS2 Position 4\n",
    "arr21pos4 = np.loadtxt(\"./fresults/LGND_200_60kg_Calibration_wSourceNumber_42_Height_200mm.txt\",  dtype=int, skiprows=2,)\n",
    "#print(arr11)\n",
    "\n",
    "arr22pos4 = np.loadtxt(\"./fresults/LGND_200_60kg_Calibration_wSourceNumber_42_Height_320mm.txt\",  dtype=int, skiprows=2,)\n",
    "#print(arr12)\n",
    "\n",
    "arr23pos4 = np.loadtxt(\"./fresults/LGND_200_60kg_Calibration_wSourceNumber_42_Height_420mm.txt\",  dtype=int, skiprows=2,)\n",
    "#print(arr13)\n",
    "\n",
    "arr24pos4 = np.loadtxt(\"./fresults/LGND_200_60kg_Calibration_wSourceNumber_42_Height_520mm.txt\",  dtype=int, skiprows=2,)\n",
    "#print(arr14)\n",
    "\n",
    "# SIS2 : 5-9-2-7\n",
    "SIS2arrpos4 = sf[5]*arr21pos4 + sf[9]*arr22pos4 + sf[2]*arr23pos4 + sf[7]*arr24pos4\n",
    "#print(SIS2arr)\n",
    "\n",
    "\n",
    "# SIS3 Position 4\n",
    "arr31pos4 = np.loadtxt(\"./fresults/LGND_200_60kg_Calibration_wSourceNumber_43_Height_200mm.txt\",  dtype=int, skiprows=2,)\n",
    "#print(arr11)\n",
    "\n",
    "arr32pos4 = np.loadtxt(\"./fresults/LGND_200_60kg_Calibration_wSourceNumber_43_Height_320mm.txt\",  dtype=int, skiprows=2,)\n",
    "#print(arr12)\n",
    "\n",
    "arr33pos4 = np.loadtxt(\"./fresults/LGND_200_60kg_Calibration_wSourceNumber_43_Height_420mm.txt\",  dtype=int, skiprows=2,)\n",
    "#print(arr13)\n",
    "\n",
    "arr34pos4 = np.loadtxt(\"./fresults/LGND_200_60kg_Calibration_wSourceNumber_43_Height_520mm.txt\",  dtype=int, skiprows=2,)\n",
    "#print(arr14)\n",
    "\n",
    "# SIS3 : 14-3-11-12\n",
    "SIS3arrpos4 = sf[14]*arr31pos4 + sf[3]*arr32pos4 + sf[11]*arr33pos4 + sf[12]*arr34pos4\n",
    "#print(SIS3arr)\n",
    "\n",
    "\n",
    "# SIS4 Position 4\n",
    "arr41pos4 = np.loadtxt(\"./fresults/LGND_200_60kg_Calibration_wSourceNumber_44_Height_200mm.txt\",  dtype=int, skiprows=2,)\n",
    "#print(arr11)\n",
    "\n",
    "arr42pos4 = np.loadtxt(\"./fresults/LGND_200_60kg_Calibration_wSourceNumber_44_Height_320mm.txt\",  dtype=int, skiprows=2,)\n",
    "#print(arr12)\n",
    "\n",
    "arr43pos4 = np.loadtxt(\"./fresults/LGND_200_60kg_Calibration_wSourceNumber_44_Height_420mm.txt\",  dtype=int, skiprows=2,)\n",
    "#print(arr13)\n",
    "\n",
    "arr44pos4 = np.loadtxt(\"./fresults/LGND_200_60kg_Calibration_wSourceNumber_44_Height_520mm.txt\",  dtype=int, skiprows=2,)\n",
    "#print(arr14)\n",
    "\n",
    "# SIS4 : 13-1-17-8\n",
    "SIS4arrpos4 = sf[13]*arr41pos4+ sf[1]*arr42pos4 + sf[17]*arr43pos4 + sf[8]*arr44pos4\n",
    "#print(SIS4arr)"
   ]
  },
  {
   "cell_type": "code",
   "execution_count": 14,
   "id": "b2e3d9bf-4270-45c5-b43c-fd2933cbb35d",
   "metadata": {},
   "outputs": [],
   "source": [
    "SIS1arr = SIS1arrpos1 + SIS1arrpos2 + SIS1arrpos3 + SIS1arrpos4\n",
    "SIS2arr = SIS2arrpos1 + SIS2arrpos2 + SIS2arrpos3 + SIS2arrpos4\n",
    "SIS3arr = SIS3arrpos1 + SIS3arrpos2 + SIS3arrpos3 + SIS3arrpos4\n",
    "SIS4arr = SIS4arrpos1 + SIS4arrpos2 + SIS4arrpos3 + SIS4arrpos4"
   ]
  },
  {
   "cell_type": "code",
   "execution_count": 15,
   "id": "e691a163-975e-4b22-9226-1896c96c9f46",
   "metadata": {},
   "outputs": [
    {
     "name": "stdout",
     "output_type": "stream",
     "text": [
      "[[22274. 28909.     0.     0.     0.     0. 22641. 19034.     0.     0.\n",
      "      0.     0.]\n",
      " [31758. 29012.     0.     0.     0.     0. 33873. 50295.     0.     0.\n",
      "      0.     0.]\n",
      " [33220. 13194.     0.     0.     0.     0. 28563. 47933.     0.     0.\n",
      "      0.     0.]\n",
      " [14567. 17046.     0.     0.     0.     0. 17874. 21411.     0.     0.\n",
      "      0.     0.]\n",
      " [ 7007. 12951.     0.     0.     0.     0.  7881. 16000.     0.     0.\n",
      "      0.     0.]\n",
      " [ 3236.  4697.     0.     0.     0.     0.  2846.     0.     0.     0.\n",
      "      0.     0.]\n",
      " [  799.  1635.     0.     0.     0.     0.   750.     0.     0.     0.\n",
      "      0.     0.]\n",
      " [  755.     0.     0.     0.     0.     0.   171.     0.     0.     0.\n",
      "      0.     0.]]\n"
     ]
    }
   ],
   "source": [
    "SISarr = np.rint(SIS1arr + SIS2arr + SIS3arr + SIS4arr)\n",
    "print(SISarr)"
   ]
  },
  {
   "cell_type": "code",
   "execution_count": 16,
   "id": "f2d17730-8f8d-4824-8355-be12f1c40e9a",
   "metadata": {},
   "outputs": [
    {
     "name": "stdout",
     "output_type": "stream",
     "text": [
      "String 1 DetectorUnit 1 Counts 22274.0\n",
      "String 1 DetectorUnit 2 Counts 31758.0\n",
      "String 1 DetectorUnit 3 Counts 33220.0\n",
      "String 1 DetectorUnit 4 Counts 14567.0\n",
      "String 1 DetectorUnit 5 Counts 7007.0\n",
      "String 1 DetectorUnit 6 Counts 3236.0\n",
      "String 1 DetectorUnit 7 Counts 799.0\n",
      "String 1 DetectorUnit 8 Counts 755.0\n",
      "String 2 DetectorUnit 1 Counts 28909.0\n",
      "String 2 DetectorUnit 2 Counts 29012.0\n",
      "String 2 DetectorUnit 3 Counts 13194.0\n",
      "String 2 DetectorUnit 4 Counts 17046.0\n",
      "String 2 DetectorUnit 5 Counts 12951.0\n",
      "String 2 DetectorUnit 6 Counts 4697.0\n",
      "String 2 DetectorUnit 7 Counts 1635.0\n",
      "String 2 DetectorUnit 8 Counts 0.0\n",
      "String 3 DetectorUnit 1 Counts 0.0\n",
      "String 3 DetectorUnit 2 Counts 0.0\n",
      "String 3 DetectorUnit 3 Counts 0.0\n",
      "String 3 DetectorUnit 4 Counts 0.0\n",
      "String 3 DetectorUnit 5 Counts 0.0\n",
      "String 3 DetectorUnit 6 Counts 0.0\n",
      "String 3 DetectorUnit 7 Counts 0.0\n",
      "String 3 DetectorUnit 8 Counts 0.0\n",
      "String 4 DetectorUnit 1 Counts 0.0\n",
      "String 4 DetectorUnit 2 Counts 0.0\n",
      "String 4 DetectorUnit 3 Counts 0.0\n",
      "String 4 DetectorUnit 4 Counts 0.0\n",
      "String 4 DetectorUnit 5 Counts 0.0\n",
      "String 4 DetectorUnit 6 Counts 0.0\n",
      "String 4 DetectorUnit 7 Counts 0.0\n",
      "String 4 DetectorUnit 8 Counts 0.0\n",
      "String 5 DetectorUnit 1 Counts 0.0\n",
      "String 5 DetectorUnit 2 Counts 0.0\n",
      "String 5 DetectorUnit 3 Counts 0.0\n",
      "String 5 DetectorUnit 4 Counts 0.0\n",
      "String 5 DetectorUnit 5 Counts 0.0\n",
      "String 5 DetectorUnit 6 Counts 0.0\n",
      "String 5 DetectorUnit 7 Counts 0.0\n",
      "String 5 DetectorUnit 8 Counts 0.0\n",
      "String 6 DetectorUnit 1 Counts 0.0\n",
      "String 6 DetectorUnit 2 Counts 0.0\n",
      "String 6 DetectorUnit 3 Counts 0.0\n",
      "String 6 DetectorUnit 4 Counts 0.0\n",
      "String 6 DetectorUnit 5 Counts 0.0\n",
      "String 6 DetectorUnit 6 Counts 0.0\n",
      "String 6 DetectorUnit 7 Counts 0.0\n",
      "String 6 DetectorUnit 8 Counts 0.0\n",
      "String 7 DetectorUnit 1 Counts 22641.0\n",
      "String 7 DetectorUnit 2 Counts 33873.0\n",
      "String 7 DetectorUnit 3 Counts 28563.0\n",
      "String 7 DetectorUnit 4 Counts 17874.0\n",
      "String 7 DetectorUnit 5 Counts 7881.0\n",
      "String 7 DetectorUnit 6 Counts 2846.0\n",
      "String 7 DetectorUnit 7 Counts 750.0\n",
      "String 7 DetectorUnit 8 Counts 171.0\n",
      "String 8 DetectorUnit 1 Counts 19034.0\n",
      "String 8 DetectorUnit 2 Counts 50295.0\n",
      "String 8 DetectorUnit 3 Counts 47933.0\n",
      "String 8 DetectorUnit 4 Counts 21411.0\n",
      "String 8 DetectorUnit 5 Counts 16000.0\n",
      "String 8 DetectorUnit 6 Counts 0.0\n",
      "String 8 DetectorUnit 7 Counts 0.0\n",
      "String 8 DetectorUnit 8 Counts 0.0\n",
      "String 9 DetectorUnit 1 Counts 0.0\n",
      "String 9 DetectorUnit 2 Counts 0.0\n",
      "String 9 DetectorUnit 3 Counts 0.0\n",
      "String 9 DetectorUnit 4 Counts 0.0\n",
      "String 9 DetectorUnit 5 Counts 0.0\n",
      "String 9 DetectorUnit 6 Counts 0.0\n",
      "String 9 DetectorUnit 7 Counts 0.0\n",
      "String 9 DetectorUnit 8 Counts 0.0\n",
      "String 10 DetectorUnit 1 Counts 0.0\n",
      "String 10 DetectorUnit 2 Counts 0.0\n",
      "String 10 DetectorUnit 3 Counts 0.0\n",
      "String 10 DetectorUnit 4 Counts 0.0\n",
      "String 10 DetectorUnit 5 Counts 0.0\n",
      "String 10 DetectorUnit 6 Counts 0.0\n",
      "String 10 DetectorUnit 7 Counts 0.0\n",
      "String 10 DetectorUnit 8 Counts 0.0\n",
      "String 11 DetectorUnit 1 Counts 0.0\n",
      "String 11 DetectorUnit 2 Counts 0.0\n",
      "String 11 DetectorUnit 3 Counts 0.0\n",
      "String 11 DetectorUnit 4 Counts 0.0\n",
      "String 11 DetectorUnit 5 Counts 0.0\n",
      "String 11 DetectorUnit 6 Counts 0.0\n",
      "String 11 DetectorUnit 7 Counts 0.0\n",
      "String 11 DetectorUnit 8 Counts 0.0\n",
      "String 12 DetectorUnit 1 Counts 0.0\n",
      "String 12 DetectorUnit 2 Counts 0.0\n",
      "String 12 DetectorUnit 3 Counts 0.0\n",
      "String 12 DetectorUnit 4 Counts 0.0\n",
      "String 12 DetectorUnit 5 Counts 0.0\n",
      "String 12 DetectorUnit 6 Counts 0.0\n",
      "String 12 DetectorUnit 7 Counts 0.0\n",
      "String 12 DetectorUnit 8 Counts 0.0\n"
     ]
    }
   ],
   "source": [
    "for i in range (0,12):\n",
    "    for j in range (0,8):\n",
    "        print(f'String {i+1} DetectorUnit {j+1} Counts {SISarr[j,i]}')"
   ]
  },
  {
   "cell_type": "code",
   "execution_count": 17,
   "id": "8cb49550-e592-49c5-bdcd-73a9ba6ba65a",
   "metadata": {},
   "outputs": [],
   "source": [
    "# Taken from George Marshall's technical council call - it's around a wide window\n",
    "SISexpt=[[10.5e3, 19.4e3, 24.0e3, 15.7e3, 9.9e3, 11.7e3, 3.6e3, 11.8e3],[ 0, 0, 7.5e3, 0, 0, 18.3e3, 0, 0], [0,0,0,0,0,0,0,0], [0,0,0,0,0,0,0,0], [0,0,0,0,0,0,0,0], [0,0,0,0,0,0,0,0], [8.3e3, 19.8e3, 20.5e3, 19.4e3, 0, 15.5e3, 0, 5.1e3],[6.9e3, 27.7e3, 37.1e3, 24.9e3, 23.1e3, 0, 0, 0],[0,0,0,0,0,0,0,0],[0,0,0,0,0,0,0,0],[0,0,0,0,0,0,0,0],[0,0,0,0,0,0,0,0]]"
   ]
  },
  {
   "cell_type": "code",
   "execution_count": 18,
   "id": "a02c8cbf-adc8-4eab-86d8-616244186d75",
   "metadata": {},
   "outputs": [
    {
     "name": "stdout",
     "output_type": "stream",
     "text": [
      "[[10500.     0.     0.     0.     0.     0.  8300.  6900.     0.     0.\n",
      "      0.     0.]\n",
      " [19400.     0.     0.     0.     0.     0. 19800. 27700.     0.     0.\n",
      "      0.     0.]\n",
      " [24000.  7500.     0.     0.     0.     0. 20500. 37100.     0.     0.\n",
      "      0.     0.]\n",
      " [15700.     0.     0.     0.     0.     0. 19400. 24900.     0.     0.\n",
      "      0.     0.]\n",
      " [ 9900.     0.     0.     0.     0.     0.     0. 23100.     0.     0.\n",
      "      0.     0.]\n",
      " [11700. 18300.     0.     0.     0.     0. 15500.     0.     0.     0.\n",
      "      0.     0.]\n",
      " [ 3600.     0.     0.     0.     0.     0.     0.     0.     0.     0.\n",
      "      0.     0.]\n",
      " [11800.     0.     0.     0.     0.     0.  5100.     0.     0.     0.\n",
      "      0.     0.]]\n"
     ]
    }
   ],
   "source": [
    "SISexp=np.transpose(SISexpt)\n",
    "print(SISexp)"
   ]
  },
  {
   "cell_type": "code",
   "execution_count": 19,
   "id": "db236af4-d9ea-4fb5-8541-89b0337b1af2",
   "metadata": {},
   "outputs": [
    {
     "name": "stdout",
     "output_type": "stream",
     "text": [
      "[[0. 0. 0. 0. 0. 0. 0. 0. 0. 0. 0. 0.]\n",
      " [0. 0. 0. 0. 0. 0. 0. 0. 0. 0. 0. 0.]\n",
      " [0. 0. 0. 0. 0. 0. 0. 0. 0. 0. 0. 0.]\n",
      " [0. 0. 0. 0. 0. 0. 0. 0. 0. 0. 0. 0.]\n",
      " [0. 0. 0. 0. 0. 0. 0. 0. 0. 0. 0. 0.]\n",
      " [0. 0. 0. 0. 0. 0. 0. 0. 0. 0. 0. 0.]\n",
      " [0. 0. 0. 0. 0. 0. 0. 0. 0. 0. 0. 0.]\n",
      " [0. 0. 0. 0. 0. 0. 0. 0. 0. 0. 0. 0.]]\n"
     ]
    }
   ],
   "source": [
    "y1=[]\n",
    "y1=np.zeros([8,12],dtype=float)\n",
    "print(y1)"
   ]
  },
  {
   "cell_type": "code",
   "execution_count": 20,
   "id": "fb6b22d0-170f-492f-a660-eb70ce8b9cb0",
   "metadata": {},
   "outputs": [
    {
     "name": "stdout",
     "output_type": "stream",
     "text": [
      "<tr><td> STRING 1 <td><td> DET 1 <td><td> SIM 22274.0 <td><td> EXP 10500.0 <td><td> FACTOR 2.12 <td><tr>\n",
      "<tr><td> STRING 1 <td><td> DET 2 <td><td> SIM 31758.0 <td><td> EXP 19400.0 <td><td> FACTOR 1.64 <td><tr>\n",
      "<tr><td> STRING 1 <td><td> DET 3 <td><td> SIM 33220.0 <td><td> EXP 24000.0 <td><td> FACTOR 1.38 <td><tr>\n",
      "<tr><td> STRING 1 <td><td> DET 4 <td><td> SIM 14567.0 <td><td> EXP 15700.0 <td><td> FACTOR 0.93 <td><tr>\n",
      "<tr><td> STRING 1 <td><td> DET 5 <td><td> SIM 7007.0 <td><td> EXP 9900.0 <td><td> FACTOR 0.71 <td><tr>\n",
      "<tr><td> STRING 1 <td><td> DET 6 <td><td> SIM 3236.0 <td><td> EXP 11700.0 <td><td> FACTOR 0.28 <td><tr>\n",
      "<tr><td> STRING 1 <td><td> DET 7 <td><td> SIM 799.0 <td><td> EXP 3600.0 <td><td> FACTOR 0.22 <td><tr>\n",
      "<tr><td> STRING 1 <td><td> DET 8 <td><td> SIM 755.0 <td><td> EXP 11800.0 <td><td> FACTOR 0.06 <td><tr>\n",
      "<tr><td> STRING 2 <td><td> DET 3 <td><td> SIM 13194.0 <td><td> EXP 7500.0 <td><td> FACTOR 1.76 <td><tr>\n",
      "<tr><td> STRING 2 <td><td> DET 6 <td><td> SIM 4697.0 <td><td> EXP 18300.0 <td><td> FACTOR 0.26 <td><tr>\n",
      "<tr><td> STRING 7 <td><td> DET 1 <td><td> SIM 22641.0 <td><td> EXP 8300.0 <td><td> FACTOR 2.73 <td><tr>\n",
      "<tr><td> STRING 7 <td><td> DET 2 <td><td> SIM 33873.0 <td><td> EXP 19800.0 <td><td> FACTOR 1.71 <td><tr>\n",
      "<tr><td> STRING 7 <td><td> DET 3 <td><td> SIM 28563.0 <td><td> EXP 20500.0 <td><td> FACTOR 1.39 <td><tr>\n",
      "<tr><td> STRING 7 <td><td> DET 4 <td><td> SIM 17874.0 <td><td> EXP 19400.0 <td><td> FACTOR 0.92 <td><tr>\n",
      "<tr><td> STRING 7 <td><td> DET 6 <td><td> SIM 2846.0 <td><td> EXP 15500.0 <td><td> FACTOR 0.18 <td><tr>\n",
      "<tr><td> STRING 7 <td><td> DET 8 <td><td> SIM 171.0 <td><td> EXP 5100.0 <td><td> FACTOR 0.03 <td><tr>\n",
      "<tr><td> STRING 8 <td><td> DET 1 <td><td> SIM 19034.0 <td><td> EXP 6900.0 <td><td> FACTOR 2.76 <td><tr>\n",
      "<tr><td> STRING 8 <td><td> DET 2 <td><td> SIM 50295.0 <td><td> EXP 27700.0 <td><td> FACTOR 1.82 <td><tr>\n",
      "<tr><td> STRING 8 <td><td> DET 3 <td><td> SIM 47933.0 <td><td> EXP 37100.0 <td><td> FACTOR 1.29 <td><tr>\n",
      "<tr><td> STRING 8 <td><td> DET 4 <td><td> SIM 21411.0 <td><td> EXP 24900.0 <td><td> FACTOR 0.86 <td><tr>\n",
      "<tr><td> STRING 8 <td><td> DET 5 <td><td> SIM 16000.0 <td><td> EXP 23100.0 <td><td> FACTOR 0.69 <td><tr>\n"
     ]
    }
   ],
   "source": [
    "for i in range (0,12):\n",
    "    for j in range (0,8):\n",
    "        if (SISexp[j,i] != 0.):\n",
    "            y1[j,i]=SISarr[j,i]/SISexp[j,i]\n",
    "            print(f'<tr><td> STRING {i+1} <td><td> DET {j+1} <td><td> SIM {SISarr[j,i]} <td><td> EXP {SISexp[j,i]} <td><td> FACTOR {SISarr[j,i]/SISexp[j,i]:.2f} <td><tr>')"
   ]
  },
  {
   "cell_type": "markdown",
   "id": "0afce4e8-4a34-4189-a543-074094cba283",
   "metadata": {},
   "source": [
    "<table><tr><td> STRING 1 <td><td> DET 1 <td><td> EXP 10500.0 <td><td> FACTOR 2.12 <td><td> <td><tr>\n",
    "<tr><td> STRING 1 <td><td> DET 2 <td><td> EXP 19400.0 <td><td> FACTOR 1.64 <td><td> below depl/rec  <td><tr>\n",
    "<tr><td> STRING 1 <td><td> DET 3 <td><td> EXP 24000.0 <td><td> FACTOR 1.38 <td><td> below depl/rec <td><tr>\n",
    "<tr><td> STRING 1 <td><td> DET 4 <td><td> EXP 15700.0 <td><td> FACTOR 0.93 <td><td> below rec <td><tr>\n",
    "<tr><td> STRING 1 <td><td> DET 5 <td><td> EXP 9900.0 <td><td> FACTOR 0.71 <td><td> below depl/rec <td><tr>\n",
    "<tr><td> STRING 1 <td><td> DET 6 <td><td> EXP 11700.0 <td><td> FACTOR 0.28 <td><td> below rec <td><tr>\n",
    "<tr><td> STRING 1 <td><td> DET 7 <td><td> EXP 3600.0 <td><td> FACTOR 0.22 <td><td> below rec <td><tr>\n",
    "<tr><td> STRING 1 <td><td> DET 8 <td><td> EXP 11800.0 <td><td> FACTOR 0.06 <td><td> <td><tr>\n",
    "<tr><td> STRING 2 <td><td> DET 3 <td><td> EXP 7500.0 <td><td> FACTOR 1.76 <td><td> <td><tr>\n",
    "<tr><td> STRING 2 <td><td> DET 6 <td><td> EXP 18300.0 <td><td> FACTOR 0.26 <td><td> <td><tr>\n",
    "<tr><td> STRING 7 <td><td> DET 1 <td><td> EXP 8300.0 <td><td> FACTOR 2.73 <td><td> <td><tr>\n",
    "<tr><td> STRING 7 <td><td> DET 2 <td><td> EXP 19800.0 <td><td> FACTOR 1.71 <td><td> <td><tr>\n",
    "<tr><td> STRING 7 <td><td> DET 3 <td><td> EXP 20500.0 <td><td> FACTOR 1.39 <td><td> <td><tr>\n",
    "<tr><td> STRING 7 <td><td> DET 4 <td><td> EXP 19400.0 <td><td> FACTOR 0.92 <td><td> below depl/rec <td><tr>\n",
    "<tr><td> STRING 7 <td><td> DET 6 <td><td> EXP 15500.0 <td><td> FACTOR 0.18 <td><td> below depl/rec <td><tr>\n",
    "<tr><td> STRING 7 <td><td> DET 8 <td><td> EXP 5100.0 <td><td> FACTOR 0.03 <td><td> below rec <td><tr>\n",
    "<tr><td> STRING 8 <td><td> DET 1 <td><td> EXP 6900.0 <td><td> FACTOR 2.76 <td><td> below rec <td><tr>\n",
    "<tr><td> STRING 8 <td><td> DET 2 <td><td> EXP 27700.0 <td><td> FACTOR 1.82 <td><td> below rec <td><tr>\n",
    "<tr><td> STRING 8 <td><td> DET 3 <td><td> EXP 37100.0 <td><td> FACTOR 1.29 <td><td> <td><tr>\n",
    "<tr><td> STRING 8 <td><td> DET 4 <td><td> EXP 24900.0 <td><td> FACTOR 0.86 <td><td> <td><tr>\n",
    "<tr><td> STRING 8 <td><td> DET 5 <td><td> EXP 23100.0 <td><td> FACTOR 0.69 <td><td> <td><tr><table>"
   ]
  },
  {
   "cell_type": "markdown",
   "id": "b066f370-60ae-4c0b-ad86-26686d584289",
   "metadata": {},
   "source": [
    "<table><tr><td> STRING 1 <td><td> DET 1 <td><td> 1.75 kg <td><td>SIM 22274.0 <td><td> EXP 10500.0 <td><td> FACTOR 2.12 <td><tr>\n",
    "<tr><td> STRING 1 <td><td> DET 2 <td><td> 2.48 kg <td><td> SIM 31758.0 <td><td> EXP 19400.0 <td><td> FACTOR 1.64 <td><tr>\n",
    "<tr><td> STRING 1 <td><td> DET 3 <td><td> 3.14 kg <td><td> SIM 332 <td><td> EXP 24000.0 <td><td> FACTOR 1.38 <td><tr>\n",
    "<tr><td> STRING 1 <td><td> DET 4 <td><td> 2.07 kg <td><td> SIM 14567.0 <td><td> EXP 15700.0 <td><td> FACTOR 0.93 <td><tr>\n",
    "<tr><td> STRING 1 <td><td> DET 5 <td><td> 1.79 kg <td><td> SIM 7007.0 <td><td> EXP 9900.0 <td><td> FACTOR 0.71 <td><tr>\n",
    "<tr><td> STRING 1 <td><td> DET 6 <td><td> 2.20 kg <td><td> SIM 3236.0 <td><td> EXP 11700.0 <td><td> FACTOR 0.28 <td><tr>\n",
    "<tr><td> STRING 1 <td><td> DET 7 <td><td> 1.60 kg <td><td> SIM 799.0 <td><td> EXP 3600.0 <td><td> FACTOR 0.22 <td><tr>\n",
    "<tr><td> STRING 1 <td><td> DET 8 <td><td> 2.63 kg <td><td> SIM 755.0 <td><td> EXP 11800.0 <td><td> FACTOR 0.06 <td><tr>\n",
    "<tr><td> STRING 2 <td><td> DET 3 <td><td> 1.38 kg <td><td> SIM 13194.0 <td><td> EXP 7500.0 <td><td> FACTOR 1.76 <td><tr>\n",
    "<tr><td> STRING 2 <td><td> DET 6 <td><td> 2.09 kg <td><td> SIM 4697.0 <td><td> EXP 18300.0 <td><td> FACTOR 0.26 <td><tr>\n",
    "<tr><td> STRING 7 <td><td> DET 1 <td><td>  kg <td><td> SIM 22641.0 <td><td> EXP 8300.0 <td><td> FACTOR 2.73 <td><tr>\n",
    "<tr><td> STRING 7 <td><td> DET 2 <td><td> 1.75 kg <td><td> SIM 33873.0 <td><td> EXP 19800.0 <td><td> FACTOR 1.71 <td><tr>\n",
    "<tr><td> STRING 7 <td><td> DET 3 <td><td> 1.75 kg <td><td> SIM 28563.0 <td><td> EXP 20500.0 <td><td> FACTOR 1.39 <td><tr>\n",
    "<tr><td> STRING 7 <td><td> DET 4 <td><td> 1.75 kg <td><td> SIM 17874.0 <td><td> EXP 19400.0 <td><td> FACTOR 0.92 <td><tr>\n",
    "<tr><td> STRING 7 <td><td> DET 6 <td><td> 1.75 kg <td><td> SIM 2846.0 <td><td> EXP 15500.0 <td><td> FACTOR 0.18 <td><tr>\n",
    "<tr><td> STRING 7 <td><td> DET 8 <td><td> 1.75 kg <td><td> SIM 171.0 <td><td> EXP 5100.0 <td><td> FACTOR 0.03 <td><tr>\n",
    "<tr><td> STRING 8 <td><td> DET 1 <td><td> 1.75 kg <td><td> SIM 19034.0 <td><td> EXP 6900.0 <td><td> FACTOR 2.76 <td><tr>\n",
    "<tr><td> STRING 8 <td><td> DET 2 <td><td> 1.75 kg <td><td> SIM 50295.0 <td><td> EXP 27700.0 <td><td> FACTOR 1.82 <td><tr>\n",
    "<tr><td> STRING 8 <td><td> DET 3 <td><td> 1.75 kg <td><td> SIM 47933.0 <td><td> EXP 37100.0 <td><td> FACTOR 1.29 <td><tr>\n",
    "<tr><td> STRING 8 <td><td> DET 4 <td><td> 1.75 kg <td><td> SIM 21411.0 <td><td> EXP 24900.0 <td><td> FACTOR 0.86 <td><tr>\n",
    "<tr><td> STRING 8 <td><td> DET 5 <td><td> 1.75 kg <td><td> SIM 16000.0 <td><td> EXP 23100.0 <td><td> FACTOR 0.69 <td><tr><table>"
   ]
  },
  {
   "cell_type": "markdown",
   "id": "68192490-eaf1-4d26-8823-2c8e0dee6112",
   "metadata": {},
   "source": [
    "Detectors at roughly the same positions show the same sim/exp factor. Of course, position 8 on a string need not be the same z-position since the detector sizes are different."
   ]
  },
  {
   "cell_type": "code",
   "execution_count": 21,
   "id": "02325955-31f9-4abc-a607-4d12d2a20dd8",
   "metadata": {},
   "outputs": [
    {
     "name": "stdout",
     "output_type": "stream",
     "text": [
      "0.2575\n",
      "0.5\n",
      "0.3375\n",
      "0.414\n"
     ]
    }
   ],
   "source": [
    "Slope1 = (2.12-0.06)/8\n",
    "print(Slope1)\n",
    "Slope2 = (1.76-0.26)/3\n",
    "print(Slope2)\n",
    "Slope7 = (2.73-0.03)/8\n",
    "print(Slope7)\n",
    "Slope8 = (2.76-0.69)/5\n",
    "print(Slope8)"
   ]
  },
  {
   "cell_type": "code",
   "execution_count": 22,
   "id": "7993001a-9c38-48e6-9a64-e828d94563dd",
   "metadata": {},
   "outputs": [],
   "source": [
    "# Plotting\n",
    "import matplotlib as mpl\n",
    "import matplotlib.pyplot as plt"
   ]
  },
  {
   "cell_type": "code",
   "execution_count": 23,
   "id": "79d14ae8-513e-44e4-897e-177ef387a493",
   "metadata": {},
   "outputs": [
    {
     "data": {
      "text/plain": [
       "<Figure size 1000x600 with 0 Axes>"
      ]
     },
     "metadata": {},
     "output_type": "display_data"
    }
   ],
   "source": [
    "fig = plt.figure(figsize=(10,6))"
   ]
  },
  {
   "cell_type": "code",
   "execution_count": 24,
   "id": "4c3c22b2-93c9-402a-99cf-962ecd4b98d9",
   "metadata": {},
   "outputs": [],
   "source": [
    "# Setting up the data arrays\n",
    "y1[y1 == 0] = 'nan'\n",
    "x = np.linspace(1,8,8)"
   ]
  },
  {
   "cell_type": "code",
   "execution_count": 25,
   "id": "7fac487b-4d20-4a97-8d22-1ac73f29f92a",
   "metadata": {},
   "outputs": [
    {
     "data": {
      "image/png": "[encoded data removed]",
      "text/plain": [
       "<Figure size 640x480 with 1 Axes>"
      ]
     },
     "metadata": {},
     "output_type": "display_data"
    }
   ],
   "source": [
    "plt.plot(x,y1[:,0],   # data\n",
    "marker='o',     # each marker will be rendered as a circle\n",
    "markersize=8,   # marker size\n",
    "markerfacecolor='red',   # marker facecolor\n",
    "markeredgecolor='black',  # marker edgecolor\n",
    "markeredgewidth=0.5,       # marker edge width\n",
    "linestyle='None',           # line style will be dash line\n",
    "label='String1')          \n",
    "plt.plot(x,y1[:,1],   # data\n",
    "marker='o',     # each marker will be rendered as a circle\n",
    "markersize=8,   # marker size\n",
    "markerfacecolor='green',   # marker facecolor\n",
    "markeredgecolor='black',  # marker edgecolor\n",
    "markeredgewidth=0.5,       # marker edge width\n",
    "linestyle='None',           # line style will be dash line\n",
    "label='String2') \n",
    "plt.plot(x,y1[:,6],   # data\n",
    "marker='o',     # each marker will be rendered as a circle\n",
    "markersize=8,   # marker size\n",
    "markerfacecolor='blue',   # marker facecolor\n",
    "markeredgecolor='black',  # marker edgecolor\n",
    "markeredgewidth=0.5,       # marker edge width\n",
    "linestyle='None',           # line style will be dash line\n",
    "label='String7') \n",
    "plt.plot(x,y1[:,7],   # data\n",
    "marker='o',     # each marker will be rendered as a circle\n",
    "markersize=8,   # marker size\n",
    "markerfacecolor='yellow',   # marker facecolor\n",
    "markeredgecolor='black',  # marker edgecolor\n",
    "markeredgewidth=0.5,       # marker edge width\n",
    "linestyle='None',           # line style will be dash line\n",
    "label='String8') \n",
    "plt.xlabel(\"Detector unit\")\n",
    "plt.ylabel(\"Simulation / Experiment\")\n",
    "plt.ylim(0,3.5)\n",
    "plt.title(\"L60-r14-factor - pos1\")\n",
    "plt.legend()\n",
    "plt.draw()\n",
    "plt.savefig('L60-r14-factor-pos1.png')\n",
    "plt.show()"
   ]
  },
  {
   "cell_type": "code",
   "execution_count": 26,
   "id": "8d09a74a-07b0-47e9-9d26-161dfed6178e",
   "metadata": {},
   "outputs": [
    {
     "data": {
      "image/png": "[encoded data removed]",
      "text/plain": [
       "<Figure size 640x480 with 1 Axes>"
      ]
     },
     "metadata": {},
     "output_type": "display_data"
    }
   ],
   "source": [
    "plt.plot(x,SISarr[:,0],   # data\n",
    "marker='o',     # each marker will be rendered as a circle\n",
    "markersize=8,   # marker size\n",
    "markerfacecolor='red',   # marker facecolor\n",
    "markeredgecolor='black',  # marker edgecolor\n",
    "markeredgewidth=0.5,       # marker edge width\n",
    "linestyle='--',           # line style will be dash line\n",
    "label='String1')          \n",
    "plt.plot(x,SISarr[:,1],   # data\n",
    "marker='o',     # each marker will be rendered as a circle\n",
    "markersize=8,   # marker size\n",
    "markerfacecolor='green',   # marker facecolor\n",
    "markeredgecolor='black',  # marker edgecolor\n",
    "markeredgewidth=0.5,       # marker edge width\n",
    "linestyle='--',           # line style will be dash line\n",
    "label='String2') \n",
    "plt.plot(x,SISarr[:,6],   # data\n",
    "marker='o',     # each marker will be rendered as a circle\n",
    "markersize=8,   # marker size\n",
    "markerfacecolor='blue',   # marker facecolor\n",
    "markeredgecolor='black',  # marker edgecolor\n",
    "markeredgewidth=0.5,       # marker edge width\n",
    "linestyle='--',           # line style will be dash line\n",
    "label='String7') \n",
    "plt.plot(x,SISarr[:,7],   # data\n",
    "marker='o',     # each marker will be rendered as a circle\n",
    "markersize=8,   # marker size\n",
    "markerfacecolor='yellow',   # marker facecolor\n",
    "markeredgecolor='black',  # marker edgecolor\n",
    "markeredgewidth=0.5,       # marker edge width\n",
    "linestyle='--',           # line style will be dash line\n",
    "label='String8') \n",
    "plt.xlabel(\"Detector unit\")\n",
    "plt.ylabel(\"Simulation cts (2614 keV FEP)\")\n",
    "plt.title(\"L60-r14-sim (zero not excl.) - pos1\")\n",
    "plt.legend()\n",
    "plt.ylim(-1000,80000)\n",
    "plt.draw()\n",
    "plt.savefig('L60-r14-sim-pos1.png')\n",
    "plt.show()"
   ]
  },
  {
   "cell_type": "code",
   "execution_count": 27,
   "id": "108e8362-3f04-4b0f-b5ac-742fd9c82987",
   "metadata": {},
   "outputs": [
    {
     "data": {
      "image/png": "[encoded data removed]",
      "text/plain": [
       "<Figure size 640x480 with 1 Axes>"
      ]
     },
     "metadata": {},
     "output_type": "display_data"
    }
   ],
   "source": [
    "plt.plot(x,SISexp[:,0],   # data\n",
    "marker='o',     # each marker will be rendered as a circle\n",
    "markersize=8,   # marker size\n",
    "markerfacecolor='red',   # marker facecolor\n",
    "markeredgecolor='black',  # marker edgecolor\n",
    "markeredgewidth=0.5,       # marker edge width\n",
    "linestyle='--',           # line style will be dash line\n",
    "label='String1')          \n",
    "plt.plot(x,SISexp[:,1],   # data\n",
    "marker='o',     # each marker will be rendered as a circle\n",
    "markersize=8,   # marker size\n",
    "markerfacecolor='green',   # marker facecolor\n",
    "markeredgecolor='black',  # marker edgecolor\n",
    "markeredgewidth=0.5,       # marker edge width\n",
    "linestyle='--',           # line style will be dash line\n",
    "label='String2') \n",
    "plt.plot(x,SISexp[:,6],   # data\n",
    "marker='o',     # each marker will be rendered as a circle\n",
    "markersize=8,   # marker size\n",
    "markerfacecolor='blue',   # marker facecolor\n",
    "markeredgecolor='black',  # marker edgecolor\n",
    "markeredgewidth=0.5,       # marker edge width\n",
    "linestyle='--',           # line style will be dash line\n",
    "label='String7') \n",
    "plt.plot(x,SISexp[:,7],   # data\n",
    "marker='o',     # each marker will be rendered as a circle\n",
    "markersize=8,   # marker size\n",
    "markerfacecolor='yellow',   # marker facecolor\n",
    "markeredgecolor='black',  # marker edgecolor\n",
    "markeredgewidth=0.5,       # marker edge width\n",
    "linestyle='--',           # line style will be dash line\n",
    "label='String8') \n",
    "plt.xlabel(\"Detector unit\")\n",
    "plt.ylabel(\"Experimental cts (2614 keV FEP)\")\n",
    "plt.title(\"L60-r14-exp (zero not excl.) - pos1\")\n",
    "plt.legend()\n",
    "plt.ylim(-1000,80000)\n",
    "plt.draw()\n",
    "plt.savefig('L60-r14-exp-pos1.png')\n",
    "plt.show()"
   ]
  },
  {
   "cell_type": "code",
   "execution_count": null,
   "id": "7daa4782-e8b5-442c-b1cb-ffd16075c7e6",
   "metadata": {},
   "outputs": [],
   "source": []
  }
 ],
 "metadata": {
  "kernelspec": {
   "display_name": "legend-sw",
   "language": "python",
   "name": "legend-sw"
  },
  "language_info": {
   "codemirror_mode": {
    "name": "ipython",
    "version": 3
   },
   "file_extension": ".py",
   "mimetype": "text/x-python",
   "name": "python",
   "nbconvert_exporter": "python",
   "pygments_lexer": "ipython3",
   "version": "3.9.15"
  }
 },
 "nbformat": 4,
 "nbformat_minor": 5
}
