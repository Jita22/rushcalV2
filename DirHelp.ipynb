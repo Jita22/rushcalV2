{
 "cells": [
  {
   "cell_type": "markdown",
   "id": "9089c8ff-4016-4b40-96f3-537ca3469e49",
   "metadata": {},
   "source": [
    "# Directory structure:\n",
    "/global/cscratch1/sd/jita/rushcal"
   ]
  },
  {
   "cell_type": "markdown",
   "id": "a27d27ca-e30a-4874-9428-484e95a4446a",
   "metadata": {},
   "source": [
    "-----------------------------------------------------------------------\n",
    "\n",
    "Color legend: <br>\n",
    "<font color=\"green\"> **folder** </font> <br>\n",
    "<font color=\"orange\"> **textfile / information** </font> <br>\n",
    "<font color=\"red\"> **scripts / code** </font> <br>\n",
    "<font color=\"blue\"> **plots** </font> <br>\n",
    "-----------------------------------------------------------------------"
   ]
  },
  {
   "cell_type": "markdown",
   "id": "35abb19a-7eb4-4fe7-92d5-6ac2d86fd26b",
   "metadata": {
    "tags": []
   },
   "source": [
    "### <font color=\"green\"> **fresults** </font>\n",
    "\n",
    "The output of readroot-v2.py. Since the detectory array and active detector variables are redundant, the results files are fomatted into a matrix to simply operations. The output is saved in a two dimenisonal array with the columns being the string number and the rows being the detector unit. The entries are the counts in the region of interest (ROI)."
   ]
  },
  {
   "cell_type": "markdown",
   "id": "a8722686-527b-4397-97c8-7e20e17a44f4",
   "metadata": {},
   "source": [
    "### <font color=\"green\"> **heatmaps** </font>\n",
    "\n",
    "The output of heatmap-gen-v2.py."
   ]
  },
  {
   "cell_type": "markdown",
   "id": "d2f92eeb-9fc9-46f9-9e0c-ab2975a715ef",
   "metadata": {},
   "source": [
    "### <font color=\"orange\"> **README.md** </font> \n",
    "Contains the programmatic flow."
   ]
  },
  {
   "cell_type": "markdown",
   "id": "1b3a09ef-9755-4849-8511-9927999ca589",
   "metadata": {
    "tags": []
   },
   "source": [
    "### <font color=\"orange\"> **iplist.txt** </font> \n",
    "List of all the files that need to analyzed"
   ]
  },
  {
   "cell_type": "markdown",
   "id": "d19db7cb-ebf1-4c6d-85e5-d985b213258d",
   "metadata": {},
   "source": [
    "### <font color=\"orange\"> **iplist-x.txt** </font> \n",
    "older versions of iplist.txt"
   ]
  },
  {
   "cell_type": "markdown",
   "id": "de1cdca6-8b9e-440c-9ec6-3dcdd507a840",
   "metadata": {},
   "source": [
    "### <font color=\"orange\"> **Running_py_script.ipynb** </font> \n",
    "Instructions on how to run the py script on NERSC."
   ]
  },
  {
   "cell_type": "markdown",
   "id": "6697fe29-0648-47cd-8bcb-c0a9f9d98cf5",
   "metadata": {},
   "source": [
    "### <font color=\"orange\"> **RootFileStructure.ipynb** </font> \n",
    "Shows the structure of the MaGe output."
   ]
  },
  {
   "cell_type": "markdown",
   "id": "a3d181a9-403f-432e-ac8f-4f05238e9f80",
   "metadata": {},
   "source": [
    "### <font color=\"red\"> **readroot-v2-loop.py** </font> \n",
    "The script to run readroot-v2.py in a loop pver all the entries listed in iplist.txt"
   ]
  },
  {
   "cell_type": "markdown",
   "id": "0a587268-1aae-4c36-9f51-20cad903dd2d",
   "metadata": {},
   "source": [
    "### <font color=\"red\"> **readroot-v1.ipynb** </font>\n",
    "Reads the MaGe output root file (single file) in uproot and saves the counts in a formatted matrix. This is for a single file."
   ]
  },
  {
   "cell_type": "markdown",
   "id": "5e7085e5-706a-4c3c-bdc5-e1c2c2875563",
   "metadata": {},
   "source": [
    "### <font color=\"red\"> **readroot-v2.py** </font>\n",
    "The python script version of the file readroot-v1.ipynb. This is compatible with batchmode."
   ]
  },
  {
   "cell_type": "markdown",
   "id": "1d1f7286-b57f-4747-a318-a65b42835fa7",
   "metadata": {},
   "source": [
    "### <font color=\"red\"> **compare_expsim.py** </font>\n",
    "Reads in the simulated counts, adjusts for soutrce activities and runtime. Generates a list of factor = simulation cts / experimental cts"
   ]
  },
  {
   "cell_type": "markdown",
   "id": "05c60509-6135-4912-9b4c-938a94775621",
   "metadata": {},
   "source": [
    "### <font color=\"red\"> **heatmap-gen-v1.ipynb** </font>\n",
    "Reads the formatted matrix in fresults and generates a heat map. This is for a single file."
   ]
  },
  {
   "cell_type": "markdown",
   "id": "156e5135-9ac7-45da-9632-ddd2edee16ae",
   "metadata": {},
   "source": [
    "### <font color=\"red\"> **heatmap-gen-v2.py** </font>\n",
    "The python script version of the file heatmap-gen-v1.ipynb. This is compatible with batchmode."
   ]
  },
  {
   "cell_type": "markdown",
   "id": "d760f1ca-a34b-42c2-bec1-fae2b9974de4",
   "metadata": {},
   "source": [
    "### <font color=\"red\"> **heatmap-gen-v2-loop.py** </font> \n",
    "The script to run heatmap-gen-v2.py in a loop over all the entries listed in iplist.txt"
   ]
  },
  {
   "cell_type": "markdown",
   "id": "71d9cfad-d1de-40f6-9621-9d4e3f3c1393",
   "metadata": {},
   "source": [
    "### <font color=\"blue\"> **L60-r14-exp.png** </font> \n",
    "The experimental counts from run 14 of L60. Taken from George Marshall's TC call. Large window - no background subtraction."
   ]
  },
  {
   "cell_type": "markdown",
   "id": "ccdbdccb-0b24-4d7d-b4a3-0385fbf3a001",
   "metadata": {},
   "source": [
    "### <font color=\"blue\"> **L60-r14-sim.png** </font> \n",
    "The simulated counts from run 14 of L60. No dead layer correction, no background subtraction in order to be consistent."
   ]
  },
  {
   "cell_type": "markdown",
   "id": "856918f3-299f-4dea-9af8-8706b3ecc103",
   "metadata": {},
   "source": [
    "### <font color=\"blue\"> **L60-r14-factor.png** </font> \n",
    "The factor of simulated count by experimental count plotted as per the detector unit. This is for run 14 of L60. No dead layer correction, no background subtraction in order to be consistent with the experimental numbers."
   ]
  }
 ],
 "metadata": {
  "kernelspec": {
   "display_name": "NERSC Python",
   "language": "python",
   "name": "python3"
  },
  "language_info": {
   "codemirror_mode": {
    "name": "ipython",
    "version": 3
   },
   "file_extension": ".py",
   "mimetype": "text/x-python",
   "name": "python",
   "nbconvert_exporter": "python",
   "pygments_lexer": "ipython3",
   "version": "3.9.7"
  }
 },
 "nbformat": 4,
 "nbformat_minor": 5
}
