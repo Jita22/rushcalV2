{
 "cells": [
  {
   "cell_type": "markdown",
   "id": "aa2edf27-554c-4dd9-b61a-3619e3e188a4",
   "metadata": {
    "tags": []
   },
   "source": [
    "### Detailed instructions on how to run readroot-v2-loop.py\n",
    "- List the rootfiles in the directory, that need to be analyzed: <br> `$ls /global/cfs/projectdirs/m2676/sims/LGND60_AsBuilt_Calibration/*.root > iplist.txt` <br>\n",
    "- Convert the interactive python notebook to python code which can be run using a script. This needs to be done only once. Open a jupyter notebook from the correct directory and execute (by pressing Shift + Enter or Alt + Enter) <br>\n",
    " `!jupyter nbconvert --to script 'readroot-v2.ipynb'` <br>\n",
    " This generates a '.py' copy of the code. The '.ipynb' code is useless and can be deleted to keep the directory neat. <br \n",
    "- You need to open up a shell in the container instance <br>\n",
    " `$cenv legend-base`\n",
    "- You can run the .py script from the terminal by typing <br>\n",
    "`$python3 readroot-v2-loop.py`\n"
   ]
  },
  {
   "cell_type": "markdown",
   "id": "5700947a-9875-492d-8d03-2ac746d27ef3",
   "metadata": {},
   "source": [
    "#### Old method of opening a shell in a container instance:\n",
    "`$shifter --image=legendexp/legend-base:latest` <br>. Alternately, if the command is added to the bash_aliases and bashrc in the home directory, simply typing <br>`$legend-base`or `$legend-sw` will also work."
   ]
  },
  {
   "cell_type": "markdown",
   "id": "1fa60c1e-e83b-4443-af90-efdae0309f1c",
   "metadata": {},
   "source": [
    "### Detailed instructions on how to run heatmap-gen-v2-loop.py\n",
    "- iplist.txt already exists\n",
    "- Convert the interactive python notebook to python code which can be run using a script. This needs to be done only once. Open a jupyter notebook from the correct directory and execute (by pressing Shift + Enter or Alt + Enter) <br>\n",
    " `!jupyter nbconvert --to script 'heatmap-gen-v2.ipynb'` <br>\n",
    " This generates a '.py' copy of the code. The '.ipynb' code is useless and can be deleted to keep the directory neat. <br \n",
    "- You need to open up a shell in the container instance <br>\n",
    " `$cenv legend-base`\n",
    "- You can run the .py script from the terminal by typing <br>\n",
    "`$python3 heatmap-gen-v2-loop.py`"
   ]
  },
  {
   "cell_type": "code",
   "execution_count": null,
   "id": "af10dd9f-03eb-44fa-8ab4-570d18c75b5e",
   "metadata": {},
   "outputs": [],
   "source": []
  }
 ],
 "metadata": {
  "kernelspec": {
   "display_name": "legend-sw",
   "language": "python",
   "name": "legend-sw"
  },
  "language_info": {
   "codemirror_mode": {
    "name": "ipython",
    "version": 3
   },
   "file_extension": ".py",
   "mimetype": "text/x-python",
   "name": "python",
   "nbconvert_exporter": "python",
   "pygments_lexer": "ipython3",
   "version": "3.9.15"
  }
 },
 "nbformat": 4,
 "nbformat_minor": 5
}
